{
 "cells": [
  {
   "cell_type": "markdown",
   "metadata": {
    "id": "jrqPkptsW5Vs"
   },
   "source": [
    "# **scNET: Learning Context-Specific Gene and Cell Embeddings by Integrating Single-Cell Gene Expression Data with Protein-Protein Interaction Information**"
   ]
  },
  {
   "cell_type": "markdown",
   "metadata": {
    "id": "RTNzcaI1CiWZ"
   },
   "source": [
    "**Install scnet using pip**"
   ]
  },
  {
   "cell_type": "markdown",
   "metadata": {
    "id": "-v0IduW97F8f"
   },
   "source": [
    "**It may be necessary to restart (not delete) the runtime after installing ScENT in Google Colab. We are working on fixing this issue in future releases.**"
   ]
  },
  {
   "cell_type": "code",
   "execution_count": 1,
   "metadata": {
    "id": "jl04t1P9pBYt"
   },
   "outputs": [
    {
     "name": "stdout",
     "output_type": "stream",
     "text": [
      "Requirement already satisfied: scnet in /Users/belter/github/scNET (0.2.2.2)\n",
      "Requirement already satisfied: torch>=2.2.2 in /Users/belter/miniconda3/envs/scnet/lib/python3.11/site-packages (from scnet) (2.2.2)\n",
      "Requirement already satisfied: torch-geometric>=2.6.1 in /Users/belter/miniconda3/envs/scnet/lib/python3.11/site-packages (from scnet) (2.6.1)\n",
      "Requirement already satisfied: pandas>=2.2.1 in /Users/belter/miniconda3/envs/scnet/lib/python3.11/site-packages (from scnet) (2.2.3)\n",
      "Requirement already satisfied: numpy==1.26.4 in /Users/belter/miniconda3/envs/scnet/lib/python3.11/site-packages (from scnet) (1.26.4)\n",
      "Requirement already satisfied: networkx>=3.1 in /Users/belter/miniconda3/envs/scnet/lib/python3.11/site-packages (from scnet) (3.4.2)\n",
      "Requirement already satisfied: scanpy>=1.11.0 in /Users/belter/miniconda3/envs/scnet/lib/python3.11/site-packages (from scnet) (1.11.0)\n",
      "Requirement already satisfied: scikit-learn>=1.4.1 in /Users/belter/miniconda3/envs/scnet/lib/python3.11/site-packages (from scnet) (1.5.2)\n",
      "Requirement already satisfied: gseapy>=1.1.6 in /Users/belter/miniconda3/envs/scnet/lib/python3.11/site-packages (from scnet) (1.1.8)\n",
      "Requirement already satisfied: matplotlib>=3.8.0 in /Users/belter/miniconda3/envs/scnet/lib/python3.11/site-packages (from scnet) (3.10.1)\n",
      "Requirement already satisfied: igraph in /Users/belter/miniconda3/envs/scnet/lib/python3.11/site-packages (from scnet) (0.11.8)\n",
      "Requirement already satisfied: leidenalg in /Users/belter/miniconda3/envs/scnet/lib/python3.11/site-packages (from scnet) (0.10.2)\n",
      "Requirement already satisfied: tqdm in /Users/belter/miniconda3/envs/scnet/lib/python3.11/site-packages (from scnet) (4.67.1)\n",
      "Requirement already satisfied: scipy in /Users/belter/miniconda3/envs/scnet/lib/python3.11/site-packages (from gseapy>=1.1.6->scnet) (1.15.2)\n",
      "Requirement already satisfied: requests in /Users/belter/miniconda3/envs/scnet/lib/python3.11/site-packages (from gseapy>=1.1.6->scnet) (2.32.3)\n",
      "Requirement already satisfied: contourpy>=1.0.1 in /Users/belter/miniconda3/envs/scnet/lib/python3.11/site-packages (from matplotlib>=3.8.0->scnet) (1.3.1)\n",
      "Requirement already satisfied: cycler>=0.10 in /Users/belter/miniconda3/envs/scnet/lib/python3.11/site-packages (from matplotlib>=3.8.0->scnet) (0.12.1)\n",
      "Requirement already satisfied: fonttools>=4.22.0 in /Users/belter/miniconda3/envs/scnet/lib/python3.11/site-packages (from matplotlib>=3.8.0->scnet) (4.56.0)\n",
      "Requirement already satisfied: kiwisolver>=1.3.1 in /Users/belter/miniconda3/envs/scnet/lib/python3.11/site-packages (from matplotlib>=3.8.0->scnet) (1.4.8)\n",
      "Requirement already satisfied: packaging>=20.0 in /Users/belter/miniconda3/envs/scnet/lib/python3.11/site-packages (from matplotlib>=3.8.0->scnet) (24.2)\n",
      "Requirement already satisfied: pillow>=8 in /Users/belter/miniconda3/envs/scnet/lib/python3.11/site-packages (from matplotlib>=3.8.0->scnet) (11.1.0)\n",
      "Requirement already satisfied: pyparsing>=2.3.1 in /Users/belter/miniconda3/envs/scnet/lib/python3.11/site-packages (from matplotlib>=3.8.0->scnet) (3.2.3)\n",
      "Requirement already satisfied: python-dateutil>=2.7 in /Users/belter/miniconda3/envs/scnet/lib/python3.11/site-packages (from matplotlib>=3.8.0->scnet) (2.9.0.post0)\n",
      "Requirement already satisfied: pytz>=2020.1 in /Users/belter/miniconda3/envs/scnet/lib/python3.11/site-packages (from pandas>=2.2.1->scnet) (2025.2)\n",
      "Requirement already satisfied: tzdata>=2022.7 in /Users/belter/miniconda3/envs/scnet/lib/python3.11/site-packages (from pandas>=2.2.1->scnet) (2025.2)\n",
      "Requirement already satisfied: anndata>=0.8 in /Users/belter/miniconda3/envs/scnet/lib/python3.11/site-packages (from scanpy>=1.11.0->scnet) (0.11.4)\n",
      "Requirement already satisfied: h5py>=3.7 in /Users/belter/miniconda3/envs/scnet/lib/python3.11/site-packages (from scanpy>=1.11.0->scnet) (3.13.0)\n",
      "Requirement already satisfied: joblib in /Users/belter/miniconda3/envs/scnet/lib/python3.11/site-packages (from scanpy>=1.11.0->scnet) (1.4.2)\n",
      "Requirement already satisfied: legacy-api-wrap>=1.4 in /Users/belter/miniconda3/envs/scnet/lib/python3.11/site-packages (from scanpy>=1.11.0->scnet) (1.4.1)\n",
      "Requirement already satisfied: natsort in /Users/belter/miniconda3/envs/scnet/lib/python3.11/site-packages (from scanpy>=1.11.0->scnet) (8.4.0)\n",
      "Requirement already satisfied: numba>=0.57 in /Users/belter/miniconda3/envs/scnet/lib/python3.11/site-packages (from scanpy>=1.11.0->scnet) (0.61.0)\n",
      "Requirement already satisfied: patsy!=1.0.0 in /Users/belter/miniconda3/envs/scnet/lib/python3.11/site-packages (from scanpy>=1.11.0->scnet) (1.0.1)\n",
      "Requirement already satisfied: pynndescent>=0.5 in /Users/belter/miniconda3/envs/scnet/lib/python3.11/site-packages (from scanpy>=1.11.0->scnet) (0.5.13)\n",
      "Requirement already satisfied: seaborn>=0.13 in /Users/belter/miniconda3/envs/scnet/lib/python3.11/site-packages (from scanpy>=1.11.0->scnet) (0.13.2)\n",
      "Requirement already satisfied: session-info2 in /Users/belter/miniconda3/envs/scnet/lib/python3.11/site-packages (from scanpy>=1.11.0->scnet) (0.1.2)\n",
      "Requirement already satisfied: statsmodels>=0.13 in /Users/belter/miniconda3/envs/scnet/lib/python3.11/site-packages (from scanpy>=1.11.0->scnet) (0.14.4)\n",
      "Requirement already satisfied: typing-extensions in /Users/belter/miniconda3/envs/scnet/lib/python3.11/site-packages (from scanpy>=1.11.0->scnet) (4.13.0)\n",
      "Requirement already satisfied: umap-learn!=0.5.0,>=0.5 in /Users/belter/miniconda3/envs/scnet/lib/python3.11/site-packages (from scanpy>=1.11.0->scnet) (0.5.7)\n",
      "Requirement already satisfied: threadpoolctl>=3.1.0 in /Users/belter/miniconda3/envs/scnet/lib/python3.11/site-packages (from scikit-learn>=1.4.1->scnet) (3.6.0)\n",
      "Requirement already satisfied: filelock in /Users/belter/miniconda3/envs/scnet/lib/python3.11/site-packages (from torch>=2.2.2->scnet) (3.18.0)\n",
      "Requirement already satisfied: sympy in /Users/belter/miniconda3/envs/scnet/lib/python3.11/site-packages (from torch>=2.2.2->scnet) (1.13.3)\n",
      "Requirement already satisfied: jinja2 in /Users/belter/miniconda3/envs/scnet/lib/python3.11/site-packages (from torch>=2.2.2->scnet) (3.1.6)\n",
      "Requirement already satisfied: fsspec in /Users/belter/miniconda3/envs/scnet/lib/python3.11/site-packages (from torch>=2.2.2->scnet) (2025.3.0)\n",
      "Requirement already satisfied: aiohttp in /Users/belter/miniconda3/envs/scnet/lib/python3.11/site-packages (from torch-geometric>=2.6.1->scnet) (3.11.14)\n",
      "Requirement already satisfied: psutil>=5.8.0 in /Users/belter/miniconda3/envs/scnet/lib/python3.11/site-packages (from torch-geometric>=2.6.1->scnet) (7.0.0)\n",
      "Requirement already satisfied: texttable>=1.6.2 in /Users/belter/miniconda3/envs/scnet/lib/python3.11/site-packages (from igraph->scnet) (1.7.0)\n",
      "Requirement already satisfied: array-api-compat!=1.5,>1.4 in /Users/belter/miniconda3/envs/scnet/lib/python3.11/site-packages (from anndata>=0.8->scanpy>=1.11.0->scnet) (1.11.2)\n",
      "Requirement already satisfied: llvmlite<0.45,>=0.44.0dev0 in /Users/belter/miniconda3/envs/scnet/lib/python3.11/site-packages (from numba>=0.57->scanpy>=1.11.0->scnet) (0.44.0)\n",
      "Requirement already satisfied: six>=1.5 in /Users/belter/miniconda3/envs/scnet/lib/python3.11/site-packages (from python-dateutil>=2.7->matplotlib>=3.8.0->scnet) (1.17.0)\n",
      "Requirement already satisfied: aiohappyeyeballs>=2.3.0 in /Users/belter/miniconda3/envs/scnet/lib/python3.11/site-packages (from aiohttp->torch-geometric>=2.6.1->scnet) (2.6.1)\n",
      "Requirement already satisfied: aiosignal>=1.1.2 in /Users/belter/miniconda3/envs/scnet/lib/python3.11/site-packages (from aiohttp->torch-geometric>=2.6.1->scnet) (1.3.2)\n",
      "Requirement already satisfied: attrs>=17.3.0 in /Users/belter/miniconda3/envs/scnet/lib/python3.11/site-packages (from aiohttp->torch-geometric>=2.6.1->scnet) (25.3.0)\n",
      "Requirement already satisfied: frozenlist>=1.1.1 in /Users/belter/miniconda3/envs/scnet/lib/python3.11/site-packages (from aiohttp->torch-geometric>=2.6.1->scnet) (1.5.0)\n",
      "Requirement already satisfied: multidict<7.0,>=4.5 in /Users/belter/miniconda3/envs/scnet/lib/python3.11/site-packages (from aiohttp->torch-geometric>=2.6.1->scnet) (6.2.0)\n",
      "Requirement already satisfied: propcache>=0.2.0 in /Users/belter/miniconda3/envs/scnet/lib/python3.11/site-packages (from aiohttp->torch-geometric>=2.6.1->scnet) (0.3.1)\n",
      "Requirement already satisfied: yarl<2.0,>=1.17.0 in /Users/belter/miniconda3/envs/scnet/lib/python3.11/site-packages (from aiohttp->torch-geometric>=2.6.1->scnet) (1.18.3)\n",
      "Requirement already satisfied: MarkupSafe>=2.0 in /Users/belter/miniconda3/envs/scnet/lib/python3.11/site-packages (from jinja2->torch>=2.2.2->scnet) (3.0.2)\n",
      "Requirement already satisfied: charset-normalizer<4,>=2 in /Users/belter/miniconda3/envs/scnet/lib/python3.11/site-packages (from requests->gseapy>=1.1.6->scnet) (3.4.1)\n",
      "Requirement already satisfied: idna<4,>=2.5 in /Users/belter/miniconda3/envs/scnet/lib/python3.11/site-packages (from requests->gseapy>=1.1.6->scnet) (3.10)\n",
      "Requirement already satisfied: urllib3<3,>=1.21.1 in /Users/belter/miniconda3/envs/scnet/lib/python3.11/site-packages (from requests->gseapy>=1.1.6->scnet) (2.3.0)\n",
      "Requirement already satisfied: certifi>=2017.4.17 in /Users/belter/miniconda3/envs/scnet/lib/python3.11/site-packages (from requests->gseapy>=1.1.6->scnet) (2025.1.31)\n",
      "Requirement already satisfied: mpmath<1.4,>=1.1.0 in /Users/belter/miniconda3/envs/scnet/lib/python3.11/site-packages (from sympy->torch>=2.2.2->scnet) (1.3.0)\n"
     ]
    }
   ],
   "source": [
    "!pip install scnet"
   ]
  },
  {
   "cell_type": "markdown",
   "metadata": {
    "id": "hmR9bgrWB3NJ"
   },
   "source": [
    "**Download example data**"
   ]
  },
  {
   "cell_type": "code",
   "execution_count": 2,
   "metadata": {},
   "outputs": [
    {
     "name": "stdout",
     "output_type": "stream",
     "text": [
      "Requirement already satisfied: gdown in /Users/belter/miniconda3/envs/scnet/lib/python3.11/site-packages (5.2.0)\n",
      "Requirement already satisfied: beautifulsoup4 in /Users/belter/miniconda3/envs/scnet/lib/python3.11/site-packages (from gdown) (4.13.3)\n",
      "Requirement already satisfied: filelock in /Users/belter/miniconda3/envs/scnet/lib/python3.11/site-packages (from gdown) (3.18.0)\n",
      "Requirement already satisfied: requests[socks] in /Users/belter/miniconda3/envs/scnet/lib/python3.11/site-packages (from gdown) (2.32.3)\n",
      "Requirement already satisfied: tqdm in /Users/belter/miniconda3/envs/scnet/lib/python3.11/site-packages (from gdown) (4.67.1)\n",
      "Requirement already satisfied: soupsieve>1.2 in /Users/belter/miniconda3/envs/scnet/lib/python3.11/site-packages (from beautifulsoup4->gdown) (2.6)\n",
      "Requirement already satisfied: typing-extensions>=4.0.0 in /Users/belter/miniconda3/envs/scnet/lib/python3.11/site-packages (from beautifulsoup4->gdown) (4.13.0)\n",
      "Requirement already satisfied: charset-normalizer<4,>=2 in /Users/belter/miniconda3/envs/scnet/lib/python3.11/site-packages (from requests[socks]->gdown) (3.4.1)\n",
      "Requirement already satisfied: idna<4,>=2.5 in /Users/belter/miniconda3/envs/scnet/lib/python3.11/site-packages (from requests[socks]->gdown) (3.10)\n",
      "Requirement already satisfied: urllib3<3,>=1.21.1 in /Users/belter/miniconda3/envs/scnet/lib/python3.11/site-packages (from requests[socks]->gdown) (2.3.0)\n",
      "Requirement already satisfied: certifi>=2017.4.17 in /Users/belter/miniconda3/envs/scnet/lib/python3.11/site-packages (from requests[socks]->gdown) (2025.1.31)\n",
      "Requirement already satisfied: PySocks!=1.5.7,>=1.5.6 in /Users/belter/miniconda3/envs/scnet/lib/python3.11/site-packages (from requests[socks]->gdown) (1.7.1)\n"
     ]
    }
   ],
   "source": [
    "!pip install gdown"
   ]
  },
  {
   "cell_type": "code",
   "execution_count": 3,
   "metadata": {
    "colab": {
     "base_uri": "https://localhost:8080/",
     "height": 122
    },
    "id": "O6IK04C4Icll",
    "outputId": "8f459124-5658-4e9e-fc07-e9c72363ff34"
   },
   "outputs": [
    {
     "name": "stderr",
     "output_type": "stream",
     "text": [
      "Downloading...\n",
      "From (original): https://drive.google.com/uc?id=1C_G14cWk95FaDXuXoRw-caY29DlR9CPi\n",
      "From (redirected): https://drive.google.com/uc?id=1C_G14cWk95FaDXuXoRw-caY29DlR9CPi&confirm=t&uuid=4eb2ba11-76dc-4199-943a-7c58536db4bf\n",
      "To: /Users/belter/github/scNET/example.h5ad\n",
      "100%|█████████████████████████████████████████████████████████████████████████████████████████████████████████████████████████████████████████████████████████████████████████████████████| 1.38G/1.38G [02:01<00:00, 11.3MB/s]\n"
     ]
    },
    {
     "data": {
      "text/plain": [
       "'./example.h5ad'"
      ]
     },
     "execution_count": 3,
     "metadata": {},
     "output_type": "execute_result"
    }
   ],
   "source": [
    "import gdown\n",
    "import os\n",
    "download_url = f'https://drive.google.com/uc?id=1C_G14cWk95FaDXuXoRw-caY29DlR9CPi'\n",
    "output_path = './example.h5ad'\n",
    "if not os.path.exists(output_path):\n",
    "    gdown.download(download_url, output_path, quiet=False)"
   ]
  },
  {
   "cell_type": "markdown",
   "metadata": {
    "id": "EXcsrHV8sqFO"
   },
   "source": [
    "# Import scNET and model traning"
   ]
  },
  {
   "cell_type": "code",
   "execution_count": 4,
   "metadata": {
    "id": "y3SUWWD0sqFO"
   },
   "outputs": [],
   "source": [
    "import scNET\n",
    "#For faster processing in medium to large datasets (e.g. 30K or above cells), the maximum cells batch size can be increased depending on the available GPU memory.\n",
    "\n",
    "#For GPU with 24GB memory\n",
    "scNET.main.MAX_CELLS_BATCH_SIZE = 3000\n",
    "\n",
    "#for GPU with 40GB memory\n",
    "scNET.main.MAX_CELLS_BATCH_SIZE = 4000\n",
    "\n",
    "#For GPU with 80GB memory or more\n",
    "scNET.main.MAX_CELLS_BATCH_SIZE = 8000\n",
    "\n",
    "#otherwize, do not change the default value"
   ]
  },
  {
   "cell_type": "code",
   "execution_count": 5,
   "metadata": {
    "id": "2bc4oqdJsqFP"
   },
   "outputs": [],
   "source": [
    "#To control the cutoff of gene expression, the minimum precetage of cells expressing a gene can be adjusted. The default all expressed genes are considered.\n",
    "#For example, to consider genes expressed in at least 5% of cells\n",
    "#scNET.main.EXPRESSION_CUTOFF = 0.05"
   ]
  },
  {
   "cell_type": "code",
   "execution_count": 6,
   "metadata": {
    "id": "c_6938MCsqFP"
   },
   "outputs": [],
   "source": [
    "#For larger dataset (10K or above), containing larger number of subcommunities, the number of encoder layers could be increased to 4 or more. the default value is 3.\n",
    "scNET.main.NUM_LAYERS = 3"
   ]
  },
  {
   "cell_type": "markdown",
   "metadata": {
    "id": "3N7VMJjWCJvh"
   },
   "source": [
    "## run_scNET arguments:\n",
    " **obj (AnnData, optional):** AnnData obj.\n",
    "\n",
    "  **pre_processing_flag (bool, optional):** If True, perform pre-processing steps.\n",
    "\n",
    "  **human_flag (bool, optional):** Controls gene name casing in the network.\n",
    "\n",
    "  **number_of_batches (int, optional):** Number of mini-batches for the training.\n",
    "\n",
    "  **split_cells (bool, optional):** If True, split by cells instead of edges during training. If using A100 could be True (for 10K cells or less)\n",
    "\n",
    "  **n_neighbors (int, optional):** Number of neighbors for building the adjacency graph.\n",
    "\n",
    "  **max_epoch (int, optional):** Max number of epochs for model training (recommended 250-300, and for larger dataset consider also 300-350).\n",
    "\n",
    "  **model_name (str, optional):** Identifier for saving the model outputs.\n",
    "  \n",
    "  **save_model_flag (bool, optional):** If True, save the trained model."
   ]
  },
  {
   "cell_type": "code",
   "execution_count": null,
   "metadata": {
    "colab": {
     "base_uri": "https://localhost:8080/"
    },
    "id": "cqHRFrT90HVX",
    "outputId": "be55bf29-204d-456f-f8b9-1848c5bf5580"
   },
   "outputs": [
    {
     "name": "stdout",
     "output_type": "stream",
     "text": [
      "WARNING: adata.X seems to be already log-transformed.\n",
      "/Users/belter/github/scNET/scNET/Data/format_h_sapiens.csv\n",
      "N genes: (11049, 9172)\n",
      "Highly variable genes: 1933\n"
     ]
    },
    {
     "name": "stderr",
     "output_type": "stream",
     "text": [
      "Training:   5%|█████████                                                                                                                                                                | 16/300 [1:05:56<20:21:49, 258.13s/it]"
     ]
    }
   ],
   "source": [
    "import scanpy as sc\n",
    "obj = sc.read_h5ad(\"./example.h5ad\")\n",
    "scNET.run_scNET(obj, pre_processing_flag=False, human_flag=False, number_of_batches=10, split_cells=True, max_epoch=300, model_name = \"test\")\n"
   ]
  },
  {
   "cell_type": "markdown",
   "metadata": {
    "id": "gu_vlv2vL4bt"
   },
   "source": [
    "\n",
    "# Using the model's outputs"
   ]
  },
  {
   "cell_type": "markdown",
   "metadata": {
    "id": "x5eVQhrbDNjN"
   },
   "source": [
    "**Load all the relevant embeddings**\n"
   ]
  },
  {
   "cell_type": "code",
   "execution_count": null,
   "metadata": {
    "id": "QoYWucAi8Z7b"
   },
   "outputs": [],
   "source": [
    "embedded_genes, embedded_cells, node_features , out_features =  scNET.load_embeddings(\"test\")"
   ]
  },
  {
   "cell_type": "markdown",
   "metadata": {
    "id": "GeUbbjZZLerk"
   },
   "source": [
    "**Create Scanpy object based on the reconstructed gene expression**\n"
   ]
  },
  {
   "cell_type": "code",
   "execution_count": null,
   "metadata": {
    "id": "TDm7W-O5Miuo"
   },
   "outputs": [],
   "source": [
    "cell_types = {\"0\":\"Macrophages\",\"1\":\"Macrophages\",\"2\":\"CD8 Tcells\",\"3\":\"Microglia\",\"4\":\"Cancer\",\"5\":\"CD4 Tcells\",\"6\":\"B Cells\",\"10\":\"Prolifrating Tcells\",\"8\":\"Cancer\",\"11\":\"NK\"}\n",
    "obj.obs[\"Cell Type\"] = obj.obs.seurat_clusters.map(cell_types)\n",
    "recon_obj = scNET.create_reconstructed_obj(node_features, out_features, obj)"
   ]
  },
  {
   "cell_type": "markdown",
   "metadata": {
    "id": "Rh9XrvVyLwlt"
   },
   "source": [
    "**Plot marker genes**"
   ]
  },
  {
   "cell_type": "code",
   "execution_count": null,
   "metadata": {
    "colab": {
     "base_uri": "https://localhost:8080/",
     "height": 671
    },
    "id": "aBp5-eyHHgi7",
    "outputId": "95ebfe19-57e0-4341-cae4-5649610993cc"
   },
   "outputs": [],
   "source": [
    "sc.pl.umap(recon_obj, color=[\"Cell Type\",\"Cd4\",\"Cd8a\",\"Cd14\",\"Icos\",\"P2ry12\",\"Mki67\",\"Ncr1\"], show=True, legend_loc='on data')"
   ]
  },
  {
   "cell_type": "markdown",
   "metadata": {
    "id": "DSYYzbl89CMN"
   },
   "source": [
    "**Propagation based signature projection for actvation of Tcells**\n",
    "\n"
   ]
  },
  {
   "cell_type": "code",
   "execution_count": null,
   "metadata": {
    "colab": {
     "base_uri": "https://localhost:8080/",
     "height": 483
    },
    "id": "LmHplCk49QuF",
    "outputId": "3dfcb8a2-9b6f-46a1-ddfb-6f59848b90f0"
   },
   "outputs": [],
   "source": [
    "scNET.run_signature(recon_obj, up_sig=[\"Zap70\",\"Lck\",\"Fyn\",\"Cd3g\",\"Cd28\",\"Lat\"],alpha = 0.9)"
   ]
  },
  {
   "cell_type": "markdown",
   "metadata": {
    "id": "__JGbyqa9Sjn"
   },
   "source": [
    "**And for Tumor aggression**"
   ]
  },
  {
   "cell_type": "code",
   "execution_count": null,
   "metadata": {
    "colab": {
     "base_uri": "https://localhost:8080/",
     "height": 483
    },
    "id": "EAFC9Ffox75N",
    "outputId": "c91f3a6a-7229-4dcf-ff08-bdf5a37093ef"
   },
   "outputs": [],
   "source": [
    "\n",
    "scNET.run_signature(recon_obj,up_sig=[\"Cdkn2a\",\"Myc\",\"Pten\",\"Kras\"])\n"
   ]
  },
  {
   "cell_type": "markdown",
   "metadata": {
    "id": "vamnJMrTxNdw"
   },
   "source": [
    "**Creating the co-embedded network, is it modular?**"
   ]
  },
  {
   "cell_type": "code",
   "execution_count": null,
   "metadata": {
    "colab": {
     "base_uri": "https://localhost:8080/"
    },
    "id": "Xs3IoUu5NiER",
    "outputId": "4efb0c7f-e306-4668-8383-2b55e5cc42cb"
   },
   "outputs": [],
   "source": [
    "import networkx as nx\n",
    "net, mod = scNET.build_co_embeded_network(embedded_genes, node_features)\n",
    "print(f\"The network mdularity: {mod}\")"
   ]
  },
  {
   "cell_type": "markdown",
   "metadata": {
    "id": "13MIgSdnC6uZ"
   },
   "source": [
    "##  Finding Downstream Transcription factors"
   ]
  },
  {
   "cell_type": "markdown",
   "metadata": {
    "id": "Aj-X3bEdDKu5"
   },
   "source": [
    "### Re-embed the T-cells subset"
   ]
  },
  {
   "cell_type": "code",
   "execution_count": null,
   "metadata": {
    "colab": {
     "base_uri": "https://localhost:8080/"
    },
    "id": "8WiOIU8_ZuUJ",
    "outputId": "1102368b-7439-4a08-de0d-6c0eee46c238"
   },
   "outputs": [],
   "source": [
    "sub_obj = obj[obj.obs[\"Cell Type\"] == \"CD8 Tcells\"]\n",
    "scNET.run_scNET(sub_obj, pre_processing_flag=False, human_flag=False, number_of_batches=3, split_cells=False, max_epoch=300, model_name = \"Tcells\")\n",
    "embedded_genes, embedded_cells, node_features , out_features =  scNET.load_embeddings(\"Tcells\")\n",
    "net, mod = scNET.build_co_embeded_network(embedded_genes, node_features, 99.5)\n",
    "print(f\"The network mdularity: {mod}\")"
   ]
  },
  {
   "cell_type": "markdown",
   "metadata": {
    "id": "okGy38XnDagn"
   },
   "source": [
    "### Find downstream TF's for a spesific gene signature"
   ]
  },
  {
   "cell_type": "code",
   "execution_count": null,
   "metadata": {
    "id": "BM5jehCz-5Vk"
   },
   "outputs": [],
   "source": [
    "import seaborn as sns\n",
    "import matplotlib.pyplot as plt\n",
    "\n",
    "tf_scores = scNET.find_downstream_tfs(net, [\"Zap70\",\"Lck\",\"Fyn\",\"Cd3g\",\"Cd28\",\"Lat\"]).sort_values(ascending=False).head(10)\n",
    "\n",
    "ax = sns.barplot(x=tf_scores.index, y=tf_scores.values, color='skyblue')\n",
    "ax.set_xticklabels(ax.get_xticklabels(), rotation=45, ha='right')\n",
    "\n",
    "plt.tight_layout()\n",
    "ax.set_xlabel('TF')\n",
    "ax.set_ylabel('Scores')\n",
    "plt.show()\n",
    "\n"
   ]
  },
  {
   "cell_type": "markdown",
   "metadata": {
    "id": "8pIsdt2oDZ5z"
   },
   "source": [
    "**Finding differential enriched pathways**\n",
    "### Can we see a difference in phenotype between Cancer, Microglia and Macrophages?\n",
    "\n",
    "\n",
    "\n",
    "\n",
    "\n",
    "\n"
   ]
  },
  {
   "cell_type": "code",
   "execution_count": null,
   "metadata": {
    "colab": {
     "base_uri": "https://localhost:8080/",
     "height": 1000
    },
    "id": "Bs__k2sJbXHI",
    "outputId": "fae3ae75-1975-4af6-db24-36056b02e696"
   },
   "outputs": [],
   "source": [
    "recon_obj.obs[\"Cell Type\"] = recon_obj.obs.seurat_clusters.map(cell_types)\n",
    "de_genes_per_group, significant_pathways, filtered_kegg, enrichment_results = scNET.pathway_enricment(recon_obj.copy()[recon_obj.obs[\"Cell Type\"].isin([\"Microglia\",\"Macrophages\",\"Cancer\"])],groupby=\"Cell Type\")\n",
    "scNET.plot_de_pathways(significant_pathways,enrichment_results,10)"
   ]
  }
 ],
 "metadata": {
  "accelerator": "GPU",
  "colab": {
   "gpuType": "A100",
   "machine_shape": "hm",
   "provenance": []
  },
  "kernelspec": {
   "display_name": "Python 3 (ipykernel)",
   "language": "python",
   "name": "python3"
  },
  "language_info": {
   "codemirror_mode": {
    "name": "ipython",
    "version": 3
   },
   "file_extension": ".py",
   "mimetype": "text/x-python",
   "name": "python",
   "nbconvert_exporter": "python",
   "pygments_lexer": "ipython3",
   "version": "3.11.11"
  }
 },
 "nbformat": 4,
 "nbformat_minor": 4
}
